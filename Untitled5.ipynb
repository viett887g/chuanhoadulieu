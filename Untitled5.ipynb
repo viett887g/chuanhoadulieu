{
  "nbformat": 4,
  "nbformat_minor": 0,
  "metadata": {
    "colab": {
      "provenance": [],
      "authorship_tag": "ABX9TyNchOEiLCju+mYy7bOYXvUp",
      "include_colab_link": true
    },
    "kernelspec": {
      "name": "python3",
      "display_name": "Python 3"
    },
    "language_info": {
      "name": "python"
    }
  },
  "cells": [
    {
      "cell_type": "markdown",
      "metadata": {
        "id": "view-in-github",
        "colab_type": "text"
      },
      "source": [
        "<a href=\"https://colab.research.google.com/github/viett887g/chuanhoadulieu/blob/main/Untitled5.ipynb\" target=\"_parent\"><img src=\"https://colab.research.google.com/assets/colab-badge.svg\" alt=\"Open In Colab\"/></a>"
      ]
    },
    {
      "cell_type": "code",
      "execution_count": 45,
      "metadata": {
        "id": "eCLY9KCKG9EF"
      },
      "outputs": [],
      "source": [
        "import numpy as np\n",
        "import os"
      ]
    },
    {
      "cell_type": "code",
      "source": [
        "from sklearn import preprocessing"
      ],
      "metadata": {
        "id": "VKjc82W-IfyV"
      },
      "execution_count": 2,
      "outputs": []
    },
    {
      "cell_type": "markdown",
      "source": [
        " Dữ liệu không được chuẩn hóa"
      ],
      "metadata": {
        "id": "CjQ8XFXUKkxH"
      }
    },
    {
      "cell_type": "code",
      "source": [
        "def readData(folder, filename):\n",
        "    data = np.loadtxt(os.path.join(folder, filename), delimiter=',')\n",
        "    print(\"du lieu chua duoc chuan hoa la \",data[:10])\n",
        "    X = data[:,0]\n",
        "    y = data[:,1]\n",
        "    m = y.shape[0]\n",
        "    X = np.stack([np.ones(m), X], axis=1)\n",
        "    return X, y\n",
        "\n",
        "def gradientDescent(X, y, w, alpha, n):\n",
        "    m = y.shape[0]\n",
        "    w_optimal = w.copy()\n",
        "    for i in range(n):\n",
        "        w_optimal = w_optimal - (alpha/m)*(np.dot(X, w_optimal) - y).dot(X)\n",
        "    return w_optimal\n",
        "\n",
        "def main():\n",
        "    w = np.zeros(2)\n",
        "    n = 1000\n",
        "    alpha = 0.01\n",
        "    X, y = readData(\"/content\",\"ex1data1.txt\")\n",
        "    w = gradientDescent(X, y, w, alpha, n)\n",
        "    print(\"trong so toi uu : \", w)\n",
        "\n",
        "if __name__ == '__main__':\n",
        "    main()"
      ],
      "metadata": {
        "colab": {
          "base_uri": "https://localhost:8080/"
        },
        "id": "D4x_vI4ZKNLB",
        "outputId": "faadf05a-9d5d-425a-f052-4b4e451a19ee"
      },
      "execution_count": 106,
      "outputs": [
        {
          "output_type": "stream",
          "name": "stdout",
          "text": [
            "du lieu chua duoc chuan hoa la  [[ 6.1101 17.592 ]\n",
            " [ 5.5277  9.1302]\n",
            " [ 8.5186 13.662 ]\n",
            " [ 7.0032 11.854 ]\n",
            " [ 5.8598  6.8233]\n",
            " [ 8.3829 11.886 ]\n",
            " [ 7.4764  4.3483]\n",
            " [ 8.5781 12.    ]\n",
            " [ 6.4862  6.5987]\n",
            " [ 5.0546  3.8166]]\n",
            "trong so toi uu :  [-3.24140214  1.1272942 ]\n"
          ]
        }
      ]
    },
    {
      "cell_type": "markdown",
      "source": [
        " Dữ liệu được chuẩn hóa"
      ],
      "metadata": {
        "id": "-4eH3LSNKvH8"
      }
    },
    {
      "cell_type": "code",
      "source": [
        "def readData(folder, filename):\n",
        "   data = np.loadtxt(os.path.join(folder, filename), delimiter=',')\n",
        "   d = preprocessing.normalize(data, axis=0)\n",
        "   print(\"du lieu dc chuan hoa \")\n",
        "   print(d[:10])\n",
        "   X = d[:,0]\n",
        "   y = d[:,1]\n",
        "   m = y.shape[0]\n",
        "   X = np.stack([np.ones(m), X], axis=1)\n",
        "   return X, y\n",
        "\n",
        "def gradientDescent_1(X, y, w, alpha, n):\n",
        "    m = y.shape[0]\n",
        "    w_optimal = w.copy()\n",
        "    for i in range(n):\n",
        "        w_optimal = w_optimal - (alpha/m)*(np.dot(X, w_optimal) - y).dot(X)\n",
        "    return w_optimal\n",
        "\n",
        "def main():\n",
        "    w = np.zeros(2)\n",
        "    n = 1000\n",
        "    alpha = 0.01\n",
        "    X, y = readData(\"/content\",\"ex1data1.txt\")\n",
        "    w = gradientDescent_1(X, y, w, alpha, n)\n",
        "    print(\"trong so toi uu : \", w)\n",
        "\n",
        "if __name__ == '__main__':\n",
        "    main()\n"
      ],
      "metadata": {
        "colab": {
          "base_uri": "https://localhost:8080/"
        },
        "id": "SusQB8IOItGt",
        "outputId": "3ab72416-f41f-4fb0-ca22-9306d0f61df9"
      },
      "execution_count": 96,
      "outputs": [
        {
          "output_type": "stream",
          "name": "stdout",
          "text": [
            "du lieu dc chuan hoa \n",
            "[[0.06876061 0.22302131]\n",
            " [0.06220652 0.11574745]\n",
            " [0.0958649  0.17319902]\n",
            " [0.0788112  0.15027823]\n",
            " [0.06594384 0.08650189]\n",
            " [0.09433779 0.15068391]\n",
            " [0.0841364  0.05512526]\n",
            " [0.09653449 0.15212913]\n",
            " [0.07299309 0.08365454]\n",
            " [0.05688244 0.04838467]]\n",
            "trong so toi uu :  [0.07136057 0.03143365]\n"
          ]
        }
      ]
    },
    {
      "cell_type": "markdown",
      "source": [
        "Using MinMaxScaler() to Normalize Data in Python"
      ],
      "metadata": {
        "id": "CRoZy_BUJt2O"
      }
    },
    {
      "cell_type": "code",
      "source": [
        "def readData(folder, filename):\n",
        "   data = np.loadtxt(os.path.join(folder, filename), delimiter=',')\n",
        "   \n",
        "   scaler = preprocessing.MinMaxScaler()\n",
        "   d = scaler.fit_transform(data)\n",
        "   print(\"du lieu dc chuan hoa min max \")\n",
        "   print(d[:10])\n",
        "   X = d[:,0]\n",
        "   y = d[:,1]\n",
        "   m = y.shape[0]\n",
        "   X = np.stack([np.ones(m), X], axis=1)\n",
        "   return X, y\n",
        "\n",
        "def gradientDescent(X, y, w, alpha, n):\n",
        "    m = y.shape[0]\n",
        "    w_optimal = w.copy()\n",
        "    for i in range(n):\n",
        "        w_optimal = w_optimal - (alpha/m)*(np.dot(X, w_optimal) - y).dot(X)\n",
        "    return w_optimal\n",
        "\n",
        "def main():\n",
        "    w = np.zeros(2)\n",
        "    n = 1000\n",
        "    alpha = 0.01\n",
        "    X, y = readData(\"/content\",\"ex1data1.txt\")\n",
        "    w = gradientDescent(X, y, w, alpha, n)\n",
        "    print(\"trong so toi uu : \", w)\n",
        "\n",
        "if __name__ == '__main__':\n",
        "    main()\n"
      ],
      "metadata": {
        "colab": {
          "base_uri": "https://localhost:8080/"
        },
        "id": "uObUdw1hPKCY",
        "outputId": "af014194-bb18-481f-deb7-3fab999f1584"
      },
      "execution_count": 104,
      "outputs": [
        {
          "output_type": "stream",
          "name": "stdout",
          "text": [
            "du lieu dc chuan hoa min max \n",
            "[[0.06306437 0.75566299]\n",
            " [0.02915679 0.44025019]\n",
            " [0.20328829 0.60917261]\n",
            " [0.11506104 0.54177958]\n",
            " [0.0484918  0.35426071]\n",
            " [0.19538778 0.54297238]\n",
            " [0.14261095 0.26200532]\n",
            " [0.20675241 0.54722171]\n",
            " [0.08496108 0.34588876]\n",
            " [0.00161271 0.24218625]]\n",
            "trong so toi uu :  [0.26127041 0.33073688]\n"
          ]
        }
      ]
    }
  ]
}